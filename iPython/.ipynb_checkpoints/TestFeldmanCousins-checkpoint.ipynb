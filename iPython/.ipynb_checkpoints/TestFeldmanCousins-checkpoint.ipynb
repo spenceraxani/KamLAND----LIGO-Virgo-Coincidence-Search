{
 "cells": [
  {
   "cell_type": "code",
   "execution_count": 3,
   "metadata": {},
   "outputs": [],
   "source": [
    "%matplotlib inline\n",
    "import os\n",
    "import numpy as np\n",
    "#import GolemFitPy as gf\n",
    "import importlib\n",
    "import glob, sys, pylab,  matplotlib, time, scipy.optimize, math,pickle\n",
    "import json\n",
    "import scipy.stats\n",
    "from matplotlib.colors import LogNorm\n",
    "import numpy as np\n",
    "import matplotlib.pyplot as plt\n"
   ]
  },
  {
   "cell_type": "code",
   "execution_count": 8,
   "metadata": {},
   "outputs": [
    {
     "data": {
      "text/plain": [
       "[0, 3, 0, 5]"
      ]
     },
     "execution_count": 8,
     "metadata": {},
     "output_type": "execute_result"
    },
    {
     "data": {
      "image/png": "[encoded data removed]",
      "text/plain": [
       "<Figure size 432x288 with 1 Axes>"
      ]
     },
     "metadata": {
      "needs_background": "light"
     },
     "output_type": "display_data"
    }
   ],
   "source": [
    "# From the KamLAND - LIGO paper\n",
    "b = 0.089\n",
    "n_low = []\n",
    "n_high = []\n",
    "u = np.arange(0,5,0.1) # Different hypotheses\n",
    "n = np.arange(0,10,1)\n",
    "\n",
    "\n",
    "for hyp in u:\n",
    "    Prob = []\n",
    "    R    = []\n",
    "    for n_obs in n:\n",
    "        hyp_LLH = scipy.stats.distributions.poisson.pmf(n_obs, b+hyp)\n",
    "        Prob.append(hyp_LLH)\n",
    "        LLH = []\n",
    "        for u_test in u:\n",
    "            LLH.append(scipy.stats.distributions.poisson.pmf(n_obs, b+u_test))\n",
    "        max_LLH  = max(LLH)\n",
    "        R.append(hyp_LLH/max_LLH)\n",
    "    R = np.asarray(R)\n",
    "    sorted_R, sorted_n, sorted_P = (list(t) for t in zip(*sorted(zip(R, n, Prob),reverse=True)))\n",
    "    \n",
    "    cl = 0.9\n",
    "    sum_P = 0\n",
    "    accepted_values = []\n",
    "    \n",
    "    for i in range(len(sorted_R)):\n",
    "        sum_P += sorted_P[i]\n",
    "        if sum_P < cl:\n",
    "            accepted_values.append(sorted_n[i])\n",
    "        else:\n",
    "            accepted_values.append(sorted_n[i])\n",
    "            break\n",
    "    n_low.append(min(accepted_values))\n",
    "    n_high.append(max(accepted_values))\n",
    "\n",
    "for i in range(len(n_low)):\n",
    "    plt.plot([n_low[i],n_high[i]],[u[i],u[i]],'k',linewidth = 2)\n",
    "    \n",
    "plt.xlabel('N Observed')\n",
    "plt.ylabel('Mean Signal (u)')\n",
    "plt.grid(True)\n",
    "plt.axis([0,3,0,5])"
   ]
  },
  {
   "cell_type": "code",
   "execution_count": 7,
   "metadata": {},
   "outputs": [
    {
     "data": {
      "text/plain": [
       "[0, 15, 0, 15]"
      ]
     },
     "execution_count": 7,
     "metadata": {},
     "output_type": "execute_result"
    },
    {
     "data": {
      "image/png": "[encoded data removed]",
      "text/plain": [
       "<Figure size 432x288 with 1 Axes>"
      ]
     },
     "metadata": {
      "needs_background": "light"
     },
     "output_type": "display_data"
    }
   ],
   "source": [
    "# From the feldman cousins paper.\n",
    "b = 3.\n",
    "n_low = []\n",
    "n_high = []\n",
    "u = np.arange(0,30,0.25) # Different hypotheses\n",
    "n = np.arange(0,30,1)\n",
    "\n",
    "#u = [0.5]\n",
    "for hyp in u:\n",
    "    Prob = []\n",
    "    R    = []\n",
    "    for n_obs in n:\n",
    "        hyp_LLH = scipy.stats.distributions.poisson.pmf(n_obs, b+hyp)\n",
    "        Prob.append(hyp_LLH)\n",
    "        LLH = []\n",
    "        for u_test in u:\n",
    "            LLH.append(scipy.stats.distributions.poisson.pmf(n_obs, b+u_test))\n",
    "        max_LLH  = max(LLH)\n",
    "        R.append(hyp_LLH/max_LLH)\n",
    "    R = np.asarray(R)\n",
    "    sorted_R, sorted_n, sorted_P = (list(t) for t in zip(*sorted(zip(R, n, Prob),reverse=True)))\n",
    "    \n",
    "    cl = 0.9\n",
    "    sum_P = 0\n",
    "    accepted_values = []\n",
    "    \n",
    "    for i in range(len(sorted_R)):\n",
    "        sum_P += sorted_P[i]\n",
    "        if sum_P < cl:\n",
    "            accepted_values.append(sorted_n[i])\n",
    "        else:\n",
    "            accepted_values.append(sorted_n[i])\n",
    "            break\n",
    "    n_low.append(min(accepted_values))\n",
    "    n_high.append(max(accepted_values))\n",
    "\n",
    "for i in range(len(n_low)):\n",
    "    plt.plot([n_low[i],n_high[i]],[u[i],u[i]],'k',linewidth = 2)\n",
    "    \n",
    "plt.xlabel('N')\n",
    "plt.ylabel('u')\n",
    "plt.grid(True)\n",
    "plt.axis([0,15,0,15])"
   ]
  },
  {
   "cell_type": "code",
   "execution_count": 101,
   "metadata": {},
   "outputs": [
    {
     "data": {
      "text/plain": [
       "[0, 29, 0, 19.950000000000003]"
      ]
     },
     "execution_count": 101,
     "metadata": {},
     "output_type": "execute_result"
    },
    {
     "data": {
      "image/png": "[encoded data removed]",
      "text/plain": [
       "<Figure size 432x288 with 1 Axes>"
      ]
     },
     "metadata": {
      "needs_background": "light"
     },
     "output_type": "display_data"
    }
   ],
   "source": [
    "# From the KamLAND - LIGO paper\n",
    "b = 0.18\n",
    "n_low = []\n",
    "n_high = []\n",
    "u = np.arange(0,20,0.1) # Different hypotheses\n",
    "n = np.arange(0,30,1)\n",
    "\n",
    "\n",
    "for hyp in u:\n",
    "    Prob = []\n",
    "    R    = []\n",
    "    for n_obs in n:\n",
    "        hyp_LLH = scipy.stats.distributions.poisson.pmf(n_obs, b+hyp)\n",
    "        Prob.append(hyp_LLH)\n",
    "        LLH = []\n",
    "        for u_test in u:\n",
    "            LLH.append(scipy.stats.distributions.poisson.pmf(n_obs, b+u_test))\n",
    "        max_LLH  = max(LLH)\n",
    "        R.append(hyp_LLH/max_LLH)\n",
    "    R = np.asarray(R)\n",
    "    sorted_R, sorted_n, sorted_P = (list(t) for t in zip(*sorted(zip(R, n, Prob),reverse=True)))\n",
    "    \n",
    "    cl = 0.9\n",
    "    sum_P = 0\n",
    "    accepted_values = []\n",
    "    \n",
    "    for i in range(len(sorted_R)):\n",
    "        sum_P += sorted_P[i]\n",
    "        if sum_P < cl:\n",
    "            accepted_values.append(sorted_n[i])\n",
    "        else:\n",
    "            accepted_values.append(sorted_n[i])\n",
    "            break\n",
    "    n_low.append(min(accepted_values))\n",
    "    n_high.append(max(accepted_values))\n",
    "\n",
    "for i in range(len(n_low)):\n",
    "    plt.plot([n_low[i],n_high[i]],[u[i],u[i]],'k',linewidth = 2)\n",
    "    \n",
    "plt.xlabel('N Observed')\n",
    "plt.ylabel('Mean Signal (u)')\n",
    "plt.grid(True)\n",
    "plt.axis([0,15,0,15])"
   ]
  },
  {
   "cell_type": "code",
   "execution_count": 103,
   "metadata": {},
   "outputs": [
    {
     "data": {
      "text/plain": [
       "[0, 15, 0, 15]"
      ]
     },
     "execution_count": 103,
     "metadata": {},
     "output_type": "execute_result"
    },
    {
     "data": {
      "image/png": "[encoded data removed]",
      "text/plain": [
       "<Figure size 432x288 with 1 Axes>"
      ]
     },
     "metadata": {
      "needs_background": "light"
     },
     "output_type": "display_data"
    }
   ],
   "source": [
    "for i in range(len(n_low)):\n",
    "    plt.plot([n_low[i],n_high[i]],[u[i],u[i]],'k',linewidth = 2)\n",
    "    \n",
    "plt.xlabel('N Observed')\n",
    "plt.ylabel('Mean Signal (u)')\n",
    "plt.grid(True)\n",
    "plt.axis([0,15,0,15])"
   ]
  },
  {
   "cell_type": "code",
   "execution_count": null,
   "metadata": {},
   "outputs": [],
   "source": []
  },
  {
   "cell_type": "code",
   "execution_count": null,
   "metadata": {},
   "outputs": [],
   "source": []
  },
  {
   "cell_type": "code",
   "execution_count": 64,
   "metadata": {},
   "outputs": [
    {
     "name": "stdout",
     "output_type": "stream",
     "text": [
      "0 0.0\n",
      "1 0.0\n",
      "2 0.0\n",
      "3 0.0\n",
      "4 1.0\n",
      "5 2.0\n",
      "6 3.0\n",
      "7 4.0\n",
      "8 5.0\n",
      "9 6.0\n",
      "10 7.0\n",
      "11 8.0\n",
      "12 9.0\n",
      "13 10.0\n",
      "14 11.0\n",
      "15 12.0\n",
      "16 13.0\n",
      "17 14.0\n",
      "18 15.0\n",
      "19 16.0\n"
     ]
    },
    {
     "data": {
      "text/plain": [
       "'\\nR = np.asarray(R)\\nsorted_R, sorted_n, sorted_P = (list(t) for t in zip(*sorted(zip(R, n, Prob),reverse=True)))\\n\\n#print(sorted_P)\\ncl = 0.9\\nsum_P = 0\\naccepted_values = []\\n'"
      ]
     },
     "execution_count": 64,
     "metadata": {},
     "output_type": "execute_result"
    }
   ],
   "source": [
    "\n",
    "b = 3.\n",
    "n_low = []\n",
    "n_high = []\n",
    "n = np.arange(0,20,1)\n",
    "u = np.arange(0,20,0.1)\n",
    "\n",
    "hyp = 0\n",
    "Prob = []\n",
    "R    = []\n",
    "\n",
    "for n_obs in n:\n",
    "    hyp_LLH = scipy.stats.distributions.poisson.pmf(n_obs, b+hyp)\n",
    "    Prob.append(hyp_LLH)\n",
    "    LLH = []\n",
    "    for u_test in u:\n",
    "        LLH.append(scipy.stats.distributions.poisson.pmf(n_obs, b+u_test))\n",
    "    max_LLH  = max(LLH)\n",
    "    max_LLH_index = np.where(LLH == max_LLH)[0][0]\n",
    "    \n",
    "    print(n_obs,u[max_LLH_index])\n",
    "    #R.append(hyp_LLH/max_LLH)\n",
    "'''\n",
    "R = np.asarray(R)\n",
    "sorted_R, sorted_n, sorted_P = (list(t) for t in zip(*sorted(zip(R, n, Prob),reverse=True)))\n",
    "\n",
    "#print(sorted_P)\n",
    "cl = 0.9\n",
    "sum_P = 0\n",
    "accepted_values = []\n",
    "'''"
   ]
  },
  {
   "cell_type": "code",
   "execution_count": null,
   "metadata": {},
   "outputs": [],
   "source": []
  },
  {
   "cell_type": "code",
   "execution_count": 58,
   "metadata": {},
   "outputs": [
    {
     "data": {
      "text/plain": [
       "0.835270211411272"
      ]
     },
     "execution_count": 58,
     "metadata": {},
     "output_type": "execute_result"
    }
   ],
   "source": [
    "def Poisson(n,s,b):\n",
    "    exp = s + b\n",
    "    obs = n\n",
    "    prob = np.power(exp,obs)*np.exp(-(exp))/factorial(obs)\n",
    "    return prob\n",
    "\n",
    "\n",
    "Poisson(0,0,0.18)"
   ]
  },
  {
   "cell_type": "code",
   "execution_count": 25,
   "metadata": {},
   "outputs": [
    {
     "data": {
      "text/plain": [
       "0.030297029702970296"
      ]
     },
     "execution_count": 25,
     "metadata": {},
     "output_type": "execute_result"
    }
   ],
   "source": [
    "1.8/2.02*3.4e-5*1000"
   ]
  },
  {
   "cell_type": "code",
   "execution_count": 35,
   "metadata": {},
   "outputs": [
    {
     "ename": "ModuleNotFoundError",
     "evalue": "No module named 'gammapy'",
     "output_type": "error",
     "traceback": [
      "\u001b[0;31m---------------------------------------------------------------------------\u001b[0m",
      "\u001b[0;31mModuleNotFoundError\u001b[0m                       Traceback (most recent call last)",
      "\u001b[0;32m<ipython-input-35-a03a232469c5>\u001b[0m in \u001b[0;36m<module>\u001b[0;34m\u001b[0m\n\u001b[0;32m----> 1\u001b[0;31m \u001b[0;32mimport\u001b[0m \u001b[0mgammapy\u001b[0m\u001b[0;34m.\u001b[0m\u001b[0mstats\u001b[0m \u001b[0;32mas\u001b[0m \u001b[0mgstats\u001b[0m\u001b[0;34m\u001b[0m\u001b[0;34m\u001b[0m\u001b[0m\n\u001b[0m\u001b[1;32m      2\u001b[0m \u001b[0;32mimport\u001b[0m \u001b[0mnumpy\u001b[0m \u001b[0;32mas\u001b[0m \u001b[0mnp\u001b[0m\u001b[0;34m\u001b[0m\u001b[0;34m\u001b[0m\u001b[0m\n\u001b[1;32m      3\u001b[0m \u001b[0;32mfrom\u001b[0m \u001b[0mscipy\u001b[0m \u001b[0;32mimport\u001b[0m \u001b[0mstats\u001b[0m\u001b[0;34m\u001b[0m\u001b[0;34m\u001b[0m\u001b[0m\n\u001b[1;32m      4\u001b[0m \u001b[0;34m\u001b[0m\u001b[0m\n\u001b[1;32m      5\u001b[0m \u001b[0mx_bins\u001b[0m \u001b[0;34m=\u001b[0m \u001b[0mnp\u001b[0m\u001b[0;34m.\u001b[0m\u001b[0marange\u001b[0m\u001b[0;34m(\u001b[0m\u001b[0;36m0\u001b[0m\u001b[0;34m,\u001b[0m \u001b[0;36m50\u001b[0m\u001b[0;34m)\u001b[0m\u001b[0;34m\u001b[0m\u001b[0;34m\u001b[0m\u001b[0m\n",
      "\u001b[0;31mModuleNotFoundError\u001b[0m: No module named 'gammapy'"
     ]
    }
   ],
   "source": [
    "import gammapy.stats as gstats\n",
    "import numpy as np\n",
    "from scipy import stats\n",
    "\n",
    "x_bins = np.arange(0, 50)\n",
    "mu_bins = np.linspace(0, 15, 15 / 0.005 + 1, endpoint=True)\n",
    "matrix = [stats.poisson(mu + 3.0).pmf(x_bins) for mu in mu_bins]\n",
    "acceptance_intervals = gstats.fc_construct_acceptance_intervals_pdfs(matrix, 0.9)\n",
    "\n",
    "LowerLimitNum, UpperLimitNum, _ = gstats.fc_get_limits(mu_bins, x_bins, acceptance_intervals)"
   ]
  },
  {
   "cell_type": "code",
   "execution_count": 36,
   "metadata": {},
   "outputs": [
    {
     "ename": "ModuleNotFoundError",
     "evalue": "No module named 'gammapy'",
     "output_type": "error",
     "traceback": [
      "\u001b[0;31m---------------------------------------------------------------------------\u001b[0m",
      "\u001b[0;31mModuleNotFoundError\u001b[0m                       Traceback (most recent call last)",
      "\u001b[0;32m<ipython-input-36-ad0273916cb6>\u001b[0m in \u001b[0;36m<module>\u001b[0;34m\u001b[0m\n\u001b[1;32m      7\u001b[0m \u001b[0;32mfrom\u001b[0m \u001b[0mscipy\u001b[0m\u001b[0;34m.\u001b[0m\u001b[0mstats\u001b[0m \u001b[0;32mimport\u001b[0m \u001b[0mpoisson\u001b[0m\u001b[0;34m\u001b[0m\u001b[0;34m\u001b[0m\u001b[0m\n\u001b[1;32m      8\u001b[0m \u001b[0;34m\u001b[0m\u001b[0m\n\u001b[0;32m----> 9\u001b[0;31m from gammapy.stats import (\n\u001b[0m\u001b[1;32m     10\u001b[0m     \u001b[0mfc_construct_acceptance_intervals_pdfs\u001b[0m\u001b[0;34m,\u001b[0m\u001b[0;34m\u001b[0m\u001b[0;34m\u001b[0m\u001b[0m\n\u001b[1;32m     11\u001b[0m     \u001b[0mfc_get_limits\u001b[0m\u001b[0;34m,\u001b[0m\u001b[0;34m\u001b[0m\u001b[0;34m\u001b[0m\u001b[0m\n",
      "\u001b[0;31mModuleNotFoundError\u001b[0m: No module named 'gammapy'"
     ]
    }
   ],
   "source": [
    "\"\"\"Compute numerical solution for Poisson with\n",
    "   background. Produces Fig. 7 from the Feldman\n",
    "   Cousins paper.\"\"\"\n",
    "\n",
    "import numpy as np\n",
    "import matplotlib.pyplot as plt\n",
    "from scipy.stats import poisson\n",
    "\n",
    "from gammapy.stats import (\n",
    "    fc_construct_acceptance_intervals_pdfs,\n",
    "    fc_get_limits,\n",
    "    fc_fix_limits,\n",
    ")\n",
    "\n",
    "background = 3.0\n",
    "\n",
    "n_bins_x = 100\n",
    "step_width_mu = 0.005\n",
    "mu_min = 0\n",
    "mu_max = 50\n",
    "cl = 0.90\n",
    "\n",
    "x_bins = np.arange(0, n_bins_x)\n",
    "mu_bins = np.linspace(mu_min, mu_max, mu_max / step_width_mu + 1, endpoint=True)\n",
    "\n",
    "matrix = [poisson(mu + background).pmf(x_bins) for mu in mu_bins]\n",
    "\n",
    "acceptance_intervals = fc_construct_acceptance_intervals_pdfs(matrix, cl)\n",
    "\n",
    "LowerLimitNum, UpperLimitNum, _ = fc_get_limits(mu_bins, x_bins,\n",
    "                                                acceptance_intervals)\n",
    "\n",
    "fc_fix_limits(LowerLimitNum, UpperLimitNum)\n",
    "\n",
    "fig = plt.figure()\n",
    "ax = fig.add_subplot(111)\n",
    "\n",
    "plt.plot(UpperLimitNum, mu_bins, ls='-', color='red')\n",
    "plt.plot(LowerLimitNum, mu_bins, ls='-', color='red')\n",
    "\n",
    "plt.grid(True)\n",
    "ax.yaxis.set_label_coords(-0.08, 0.5)\n",
    "plt.xticks(range(15))\n",
    "plt.yticks(range(15))\n",
    "ax.set_xlabel(r'Measured n')\n",
    "ax.set_ylabel(r'Signal Mean $\\mu$')\n",
    "plt.axis([0, 15, 0, 15])\n",
    "plt.show()\n"
   ]
  },
  {
   "cell_type": "code",
   "execution_count": 42,
   "metadata": {},
   "outputs": [
    {
     "data": {
      "text/plain": [
       "0.09836540081025322"
      ]
     },
     "execution_count": 42,
     "metadata": {},
     "output_type": "execute_result"
    }
   ],
   "source": [
    "scipy.stats.distributions.poisson.pmf(1., 3+0.6)"
   ]
  },
  {
   "cell_type": "code",
   "execution_count": null,
   "metadata": {},
   "outputs": [],
   "source": []
  }
 ],
 "metadata": {
  "kernelspec": {
   "display_name": "Python 3",
   "language": "python",
   "name": "python3"
  },
  "language_info": {
   "codemirror_mode": {
    "name": "ipython",
    "version": 3
   },
   "file_extension": ".py",
   "mimetype": "text/x-python",
   "name": "python",
   "nbconvert_exporter": "python",
   "pygments_lexer": "ipython3",
   "version": "3.7.3"
  }
 },
 "nbformat": 4,
 "nbformat_minor": 2
}
